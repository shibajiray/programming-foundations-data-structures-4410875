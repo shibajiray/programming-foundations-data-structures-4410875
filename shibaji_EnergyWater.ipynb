{
  "nbformat": 4,
  "nbformat_minor": 0,
  "metadata": {
    "colab": {
      "provenance": [],
      "authorship_tag": "ABX9TyP3X1FiBSu3kXuNk84BcJGZ",
      "include_colab_link": true
    },
    "kernelspec": {
      "name": "python3",
      "display_name": "Python 3"
    },
    "language_info": {
      "name": "python"
    },
    "accelerator": "TPU"
  },
  "cells": [
    {
      "cell_type": "markdown",
      "metadata": {
        "id": "view-in-github",
        "colab_type": "text"
      },
      "source": [
        "<a href=\"https://colab.research.google.com/github/shibajiray/programming-foundations-data-structures-4410875/blob/main/shibaji_EnergyWater.ipynb\" target=\"_parent\"><img src=\"https://colab.research.google.com/assets/colab-badge.svg\" alt=\"Open In Colab\"/></a>"
      ]
    },
    {
      "cell_type": "code",
      "execution_count": 32,
      "metadata": {
        "id": "3bfel_VgbrZr"
      },
      "outputs": [],
      "source": [
        "#importing the necessary libraries\n",
        "import pandas as pd\n",
        "import numpy as np\n",
        "from sklearn.ensemble import RandomForestRegressor\n",
        "from sklearn.model_selection import train_test_split, GridSearchCV\n",
        "from sklearn.metrics import mean_squared_error\n",
        "from sklearn.impute import SimpleImputer\n",
        "from sklearn.preprocessing import StandardScaler\n",
        "import seaborn as sns; sns.set(color_codes=True)\n",
        "import matplotlib.pyplot as plt\n",
        "%matplotlib inline\n"
      ]
    },
    {
      "cell_type": "code",
      "source": [
        "#importing the data CSV file in collab\n",
        "from google.colab import files\n",
        "\n",
        "\n",
        "uploaded = files.upload()\n"
      ],
      "metadata": {
        "colab": {
          "base_uri": "https://localhost:8080/",
          "height": 93
        },
        "id": "0wbJdbGBb9-h",
        "outputId": "b05a8689-0f39-4b61-d81c-585acc60c933"
      },
      "execution_count": 9,
      "outputs": [
        {
          "output_type": "display_data",
          "data": {
            "text/plain": [
              "<IPython.core.display.HTML object>"
            ],
            "text/html": [
              "\n",
              "     <input type=\"file\" id=\"files-334d1924-efec-4865-af24-9ce0cef69af0\" name=\"files[]\" multiple disabled\n",
              "        style=\"border:none\" />\n",
              "     <output id=\"result-334d1924-efec-4865-af24-9ce0cef69af0\">\n",
              "      Upload widget is only available when the cell has been executed in the\n",
              "      current browser session. Please rerun this cell to enable.\n",
              "      </output>\n",
              "      <script>// Copyright 2017 Google LLC\n",
              "//\n",
              "// Licensed under the Apache License, Version 2.0 (the \"License\");\n",
              "// you may not use this file except in compliance with the License.\n",
              "// You may obtain a copy of the License at\n",
              "//\n",
              "//      http://www.apache.org/licenses/LICENSE-2.0\n",
              "//\n",
              "// Unless required by applicable law or agreed to in writing, software\n",
              "// distributed under the License is distributed on an \"AS IS\" BASIS,\n",
              "// WITHOUT WARRANTIES OR CONDITIONS OF ANY KIND, either express or implied.\n",
              "// See the License for the specific language governing permissions and\n",
              "// limitations under the License.\n",
              "\n",
              "/**\n",
              " * @fileoverview Helpers for google.colab Python module.\n",
              " */\n",
              "(function(scope) {\n",
              "function span(text, styleAttributes = {}) {\n",
              "  const element = document.createElement('span');\n",
              "  element.textContent = text;\n",
              "  for (const key of Object.keys(styleAttributes)) {\n",
              "    element.style[key] = styleAttributes[key];\n",
              "  }\n",
              "  return element;\n",
              "}\n",
              "\n",
              "// Max number of bytes which will be uploaded at a time.\n",
              "const MAX_PAYLOAD_SIZE = 100 * 1024;\n",
              "\n",
              "function _uploadFiles(inputId, outputId) {\n",
              "  const steps = uploadFilesStep(inputId, outputId);\n",
              "  const outputElement = document.getElementById(outputId);\n",
              "  // Cache steps on the outputElement to make it available for the next call\n",
              "  // to uploadFilesContinue from Python.\n",
              "  outputElement.steps = steps;\n",
              "\n",
              "  return _uploadFilesContinue(outputId);\n",
              "}\n",
              "\n",
              "// This is roughly an async generator (not supported in the browser yet),\n",
              "// where there are multiple asynchronous steps and the Python side is going\n",
              "// to poll for completion of each step.\n",
              "// This uses a Promise to block the python side on completion of each step,\n",
              "// then passes the result of the previous step as the input to the next step.\n",
              "function _uploadFilesContinue(outputId) {\n",
              "  const outputElement = document.getElementById(outputId);\n",
              "  const steps = outputElement.steps;\n",
              "\n",
              "  const next = steps.next(outputElement.lastPromiseValue);\n",
              "  return Promise.resolve(next.value.promise).then((value) => {\n",
              "    // Cache the last promise value to make it available to the next\n",
              "    // step of the generator.\n",
              "    outputElement.lastPromiseValue = value;\n",
              "    return next.value.response;\n",
              "  });\n",
              "}\n",
              "\n",
              "/**\n",
              " * Generator function which is called between each async step of the upload\n",
              " * process.\n",
              " * @param {string} inputId Element ID of the input file picker element.\n",
              " * @param {string} outputId Element ID of the output display.\n",
              " * @return {!Iterable<!Object>} Iterable of next steps.\n",
              " */\n",
              "function* uploadFilesStep(inputId, outputId) {\n",
              "  const inputElement = document.getElementById(inputId);\n",
              "  inputElement.disabled = false;\n",
              "\n",
              "  const outputElement = document.getElementById(outputId);\n",
              "  outputElement.innerHTML = '';\n",
              "\n",
              "  const pickedPromise = new Promise((resolve) => {\n",
              "    inputElement.addEventListener('change', (e) => {\n",
              "      resolve(e.target.files);\n",
              "    });\n",
              "  });\n",
              "\n",
              "  const cancel = document.createElement('button');\n",
              "  inputElement.parentElement.appendChild(cancel);\n",
              "  cancel.textContent = 'Cancel upload';\n",
              "  const cancelPromise = new Promise((resolve) => {\n",
              "    cancel.onclick = () => {\n",
              "      resolve(null);\n",
              "    };\n",
              "  });\n",
              "\n",
              "  // Wait for the user to pick the files.\n",
              "  const files = yield {\n",
              "    promise: Promise.race([pickedPromise, cancelPromise]),\n",
              "    response: {\n",
              "      action: 'starting',\n",
              "    }\n",
              "  };\n",
              "\n",
              "  cancel.remove();\n",
              "\n",
              "  // Disable the input element since further picks are not allowed.\n",
              "  inputElement.disabled = true;\n",
              "\n",
              "  if (!files) {\n",
              "    return {\n",
              "      response: {\n",
              "        action: 'complete',\n",
              "      }\n",
              "    };\n",
              "  }\n",
              "\n",
              "  for (const file of files) {\n",
              "    const li = document.createElement('li');\n",
              "    li.append(span(file.name, {fontWeight: 'bold'}));\n",
              "    li.append(span(\n",
              "        `(${file.type || 'n/a'}) - ${file.size} bytes, ` +\n",
              "        `last modified: ${\n",
              "            file.lastModifiedDate ? file.lastModifiedDate.toLocaleDateString() :\n",
              "                                    'n/a'} - `));\n",
              "    const percent = span('0% done');\n",
              "    li.appendChild(percent);\n",
              "\n",
              "    outputElement.appendChild(li);\n",
              "\n",
              "    const fileDataPromise = new Promise((resolve) => {\n",
              "      const reader = new FileReader();\n",
              "      reader.onload = (e) => {\n",
              "        resolve(e.target.result);\n",
              "      };\n",
              "      reader.readAsArrayBuffer(file);\n",
              "    });\n",
              "    // Wait for the data to be ready.\n",
              "    let fileData = yield {\n",
              "      promise: fileDataPromise,\n",
              "      response: {\n",
              "        action: 'continue',\n",
              "      }\n",
              "    };\n",
              "\n",
              "    // Use a chunked sending to avoid message size limits. See b/62115660.\n",
              "    let position = 0;\n",
              "    do {\n",
              "      const length = Math.min(fileData.byteLength - position, MAX_PAYLOAD_SIZE);\n",
              "      const chunk = new Uint8Array(fileData, position, length);\n",
              "      position += length;\n",
              "\n",
              "      const base64 = btoa(String.fromCharCode.apply(null, chunk));\n",
              "      yield {\n",
              "        response: {\n",
              "          action: 'append',\n",
              "          file: file.name,\n",
              "          data: base64,\n",
              "        },\n",
              "      };\n",
              "\n",
              "      let percentDone = fileData.byteLength === 0 ?\n",
              "          100 :\n",
              "          Math.round((position / fileData.byteLength) * 100);\n",
              "      percent.textContent = `${percentDone}% done`;\n",
              "\n",
              "    } while (position < fileData.byteLength);\n",
              "  }\n",
              "\n",
              "  // All done.\n",
              "  yield {\n",
              "    response: {\n",
              "      action: 'complete',\n",
              "    }\n",
              "  };\n",
              "}\n",
              "\n",
              "scope.google = scope.google || {};\n",
              "scope.google.colab = scope.google.colab || {};\n",
              "scope.google.colab._files = {\n",
              "  _uploadFiles,\n",
              "  _uploadFilesContinue,\n",
              "};\n",
              "})(self);\n",
              "</script> "
            ]
          },
          "metadata": {}
        },
        {
          "output_type": "stream",
          "name": "stdout",
          "text": [
            "Saving Energy_and_Water_Data_Disclosure_for_Local_Law_84_2017__Data_for_Calendar_Year_2016_.csv to Energy_and_Water_Data_Disclosure_for_Local_Law_84_2017__Data_for_Calendar_Year_2016_.csv\n"
          ]
        }
      ]
    },
    {
      "cell_type": "code",
      "source": [
        "# Loading the dataset CSV file\n",
        "df = pd.read_csv('Energy_and_Water_Data_Disclosure_for_Local_Law_84_2017__Data_for_Calendar_Year_2016_.csv')"
      ],
      "metadata": {
        "id": "dDEFM8fGdf3c"
      },
      "execution_count": 3,
      "outputs": []
    },
    {
      "cell_type": "code",
      "source": [
        "# Numeric Conversion\n",
        "df['DOF Gross Floor Area'] = pd.to_numeric(df['DOF Gross Floor Area'], errors='coerce').astype(float)\n",
        "df['Largest Property Use Type - Gross Floor Area (ft²)'] = pd.to_numeric(df['Largest Property Use Type - Gross Floor Area (ft²)'], errors='coerce').astype(float)\n",
        "df['Site EUI (kBtu/ft²)'] = pd.to_numeric(df['Site EUI (kBtu/ft²)'], errors='coerce').astype(float)\n",
        "df['Weather Normalized Site EUI (kBtu/ft²)'] = pd.to_numeric(df['Weather Normalized Site EUI (kBtu/ft²)'], errors='coerce').astype(float)\n",
        "df['Weather Normalized Site Electricity Intensity (kWh/ft²)'] = pd.to_numeric(df['Weather Normalized Site Electricity Intensity (kWh/ft²)'], errors='coerce').astype(float)\n",
        "df['Weather Normalized Site Natural Gas Intensity (therms/ft²)'] = pd.to_numeric(df['Weather Normalized Site Natural Gas Intensity (therms/ft²)'], errors='coerce').astype(float)\n",
        "df['Weather Normalized Source EUI (kBtu/ft²)'] = pd.to_numeric(df['Weather Normalized Source EUI (kBtu/ft²)'], errors='coerce').astype(float)\n",
        "df['Electricity Use - Grid Purchase (kBtu)'] = pd.to_numeric(df['Electricity Use - Grid Purchase (kBtu)'], errors='coerce').astype(float)\n",
        "df['Weather Normalized Site Electricity (kWh)'] = pd.to_numeric(df['Weather Normalized Site Electricity (kWh)'], errors='coerce').astype(float)\n",
        "df['Total GHG Emissions (Metric Tons CO2e)'] = pd.to_numeric(df['Total GHG Emissions (Metric Tons CO2e)'], errors='coerce').astype(float)\n",
        "df['Direct GHG Emissions (Metric Tons CO2e)'] = pd.to_numeric(df['Direct GHG Emissions (Metric Tons CO2e)'], errors='coerce').astype(float)\n",
        "df['Indirect GHG Emissions (Metric Tons CO2e)'] = pd.to_numeric(df['Indirect GHG Emissions (Metric Tons CO2e)'], errors='coerce').astype(float)\n",
        "df['Water Use (All Water Sources) (kgal)'] = pd.to_numeric(df['Water Use (All Water Sources) (kgal)'], errors='coerce').astype(float)\n",
        "df['Water Intensity (All Water Sources) (gal/ft²)'] = pd.to_numeric(df['Water Intensity (All Water Sources) (gal/ft²)'], errors='coerce').astype(float)\n",
        "df['Source EUI (kBtu/ft²)'] = pd.to_numeric(df['Source EUI (kBtu/ft²)'], errors='coerce').astype(float)\n",
        "\n",
        "# Select relevant columns (numeric columns)\n",
        "X = df.select_dtypes(include=['float64', 'int64'])\n",
        "columns_to_remove = ['Order','Property Id','Latitude', 'Longitude','Community Board','Council District','Census Tract']\n",
        "\n",
        "X = X.drop(columns=[col for col in columns_to_remove if col in X.columns], axis=1)\n",
        "y = pd.to_numeric(df['ENERGY STAR Score'], errors='coerce')"
      ],
      "metadata": {
        "id": "29zyo1uldwVL"
      },
      "execution_count": 23,
      "outputs": []
    },
    {
      "cell_type": "code",
      "source": [
        "# Explore the distribution of Energy Star scores\n",
        "plt.figure(figsize=(10, 6))\n",
        "sns.histplot(y, bins=30, kde=True)\n",
        "plt.title('Distribution of Energy Star Scores')\n",
        "plt.xlabel('Energy Star Score')\n",
        "plt.ylabel('Frequency')\n",
        "plt.show()"
      ],
      "metadata": {
        "colab": {
          "base_uri": "https://localhost:8080/",
          "height": 573
        },
        "id": "RPNxcX62ymN7",
        "outputId": "ccdbcd1e-4aa9-4399-86fa-6012e4e258ec"
      },
      "execution_count": 73,
      "outputs": [
        {
          "output_type": "display_data",
          "data": {
            "text/plain": [
              "<Figure size 1000x600 with 1 Axes>"
            ],
            "image/png": "[encoded data removed]"
          },
          "metadata": {}
        }
      ]
    },
    {
      "cell_type": "code",
      "source": [
        "# Calculate the correlation matrix\n",
        "correlation_matrix = X.corrwith(y)\n",
        "\n",
        "# Print the correlation values\n",
        "print(correlation_matrix)\n"
      ],
      "metadata": {
        "colab": {
          "base_uri": "https://localhost:8080/"
        },
        "id": "eBiQpiBKzpzf",
        "outputId": "792f9b0f-8d92-448e-e5f7-d0891bd7478e"
      },
      "execution_count": 74,
      "outputs": [
        {
          "output_type": "stream",
          "name": "stdout",
          "text": [
            "DOF Gross Floor Area                                          0.006877\n",
            "Largest Property Use Type - Gross Floor Area (ft²)            0.017734\n",
            "Year Built                                                   -0.118181\n",
            "Number of Buildings - Self-reported                          -0.020564\n",
            "Occupancy                                                    -0.031116\n",
            "Site EUI (kBtu/ft²)                                          -0.036123\n",
            "Weather Normalized Site EUI (kBtu/ft²)                       -0.035227\n",
            "Weather Normalized Site Electricity Intensity (kWh/ft²)      -0.067762\n",
            "Weather Normalized Site Natural Gas Intensity (therms/ft²)   -0.023008\n",
            "Weather Normalized Source EUI (kBtu/ft²)                     -0.040913\n",
            "Electricity Use - Grid Purchase (kBtu)                       -0.066330\n",
            "Weather Normalized Site Electricity (kWh)                    -0.065789\n",
            "Total GHG Emissions (Metric Tons CO2e)                       -0.047934\n",
            "Direct GHG Emissions (Metric Tons CO2e)                      -0.026355\n",
            "Indirect GHG Emissions (Metric Tons CO2e)                    -0.040326\n",
            "Property GFA - Self-Reported (ft²)                            0.016800\n",
            "Water Use (All Water Sources) (kgal)                         -0.024555\n",
            "Water Intensity (All Water Sources) (gal/ft²)                -0.022396\n",
            "Source EUI (kBtu/ft²)                                        -0.042873\n",
            "dtype: float64\n"
          ]
        }
      ]
    },
    {
      "cell_type": "code",
      "source": [
        "X.head()"
      ],
      "metadata": {
        "colab": {
          "base_uri": "https://localhost:8080/",
          "height": 330
        },
        "id": "gkzSkpw3fbn9",
        "outputId": "d73bb93f-39d4-4919-8c76-3bc81c9b0bdf"
      },
      "execution_count": 9,
      "outputs": [
        {
          "output_type": "execute_result",
          "data": {
            "text/plain": [
              "   DOF Gross Floor Area  Largest Property Use Type - Gross Floor Area (ft²)  \\\n",
              "0              289356.0                                           293447.0    \n",
              "1             3693539.0                                          3889181.0    \n",
              "2              152765.0                                           231342.0    \n",
              "3              891040.0                                          1305748.0    \n",
              "4              211400.0                                           179694.0    \n",
              "\n",
              "   Year Built  Number of Buildings - Self-reported  Occupancy  \\\n",
              "0        1963                                    2        100   \n",
              "1        1969                                   12        100   \n",
              "2        1924                                    1        100   \n",
              "3        1971                                    1        100   \n",
              "4        1932                                    1        100   \n",
              "\n",
              "   Site EUI (kBtu/ft²)  Weather Normalized Site EUI (kBtu/ft²)  \\\n",
              "0                305.6                                   303.1   \n",
              "1                229.8                                   228.8   \n",
              "2                  NaN                                     NaN   \n",
              "3                  NaN                                     NaN   \n",
              "4                  NaN                                     NaN   \n",
              "\n",
              "   Weather Normalized Site Electricity Intensity (kWh/ft²)  \\\n",
              "0                                               37.8         \n",
              "1                                               24.8         \n",
              "2                                                NaN         \n",
              "3                                                NaN         \n",
              "4                                                NaN         \n",
              "\n",
              "   Weather Normalized Site Natural Gas Intensity (therms/ft²)  \\\n",
              "0                                                NaN            \n",
              "1                                                2.4            \n",
              "2                                                NaN            \n",
              "3                                                NaN            \n",
              "4                                                NaN            \n",
              "\n",
              "   Weather Normalized Source EUI (kBtu/ft²)  \\\n",
              "0                                     614.2   \n",
              "1                                     401.1   \n",
              "2                                       NaN   \n",
              "3                                       NaN   \n",
              "4                                       NaN   \n",
              "\n",
              "   Electricity Use - Grid Purchase (kBtu)  \\\n",
              "0                              38139374.2   \n",
              "1                             332365924.0   \n",
              "2                                     NaN   \n",
              "3                                     NaN   \n",
              "4                                     NaN   \n",
              "\n",
              "   Weather Normalized Site Electricity (kWh)  \\\n",
              "0                                 11082770.5   \n",
              "1                                 96261312.1   \n",
              "2                                        NaN   \n",
              "3                                        NaN   \n",
              "4                                        NaN   \n",
              "\n",
              "   Total GHG Emissions (Metric Tons CO2e)  \\\n",
              "0                                  6962.2   \n",
              "1                                 55870.4   \n",
              "2                                     0.0   \n",
              "3                                     0.0   \n",
              "4                                     0.0   \n",
              "\n",
              "   Direct GHG Emissions (Metric Tons CO2e)  \\\n",
              "0                                      0.0   \n",
              "1                                  51016.4   \n",
              "2                                      0.0   \n",
              "3                                      0.0   \n",
              "4                                      0.0   \n",
              "\n",
              "   Indirect GHG Emissions (Metric Tons CO2e)  \\\n",
              "0                                     6962.2   \n",
              "1                                     4854.1   \n",
              "2                                        0.0   \n",
              "3                                        0.0   \n",
              "4                                        0.0   \n",
              "\n",
              "   Property GFA - Self-Reported (ft²)  Water Use (All Water Sources) (kgal)  \\\n",
              "0                              762051                                   NaN   \n",
              "1                             3889181                                   NaN   \n",
              "2                              231342                                   NaN   \n",
              "3                             1305748                                   NaN   \n",
              "4                              179694                                   NaN   \n",
              "\n",
              "   Water Intensity (All Water Sources) (gal/ft²)  Source EUI (kBtu/ft²)  \n",
              "0                                            NaN                  619.4  \n",
              "1                                            NaN                  404.3  \n",
              "2                                            NaN                    NaN  \n",
              "3                                            NaN                    NaN  \n",
              "4                                            NaN                    NaN  "
            ],
            "text/html": [
              "\n",
              "  <div id=\"df-40f1900c-d626-4293-94d5-af55ddc75f35\" class=\"colab-df-container\">\n",
              "    <div>\n",
              "<style scoped>\n",
              "    .dataframe tbody tr th:only-of-type {\n",
              "        vertical-align: middle;\n",
              "    }\n",
              "\n",
              "    .dataframe tbody tr th {\n",
              "        vertical-align: top;\n",
              "    }\n",
              "\n",
              "    .dataframe thead th {\n",
              "        text-align: right;\n",
              "    }\n",
              "</style>\n",
              "<table border=\"1\" class=\"dataframe\">\n",
              "  <thead>\n",
              "    <tr style=\"text-align: right;\">\n",
              "      <th></th>\n",
              "      <th>DOF Gross Floor Area</th>\n",
              "      <th>Largest Property Use Type - Gross Floor Area (ft²)</th>\n",
              "      <th>Year Built</th>\n",
              "      <th>Number of Buildings - Self-reported</th>\n",
              "      <th>Occupancy</th>\n",
              "      <th>Site EUI (kBtu/ft²)</th>\n",
              "      <th>Weather Normalized Site EUI (kBtu/ft²)</th>\n",
              "      <th>Weather Normalized Site Electricity Intensity (kWh/ft²)</th>\n",
              "      <th>Weather Normalized Site Natural Gas Intensity (therms/ft²)</th>\n",
              "      <th>Weather Normalized Source EUI (kBtu/ft²)</th>\n",
              "      <th>Electricity Use - Grid Purchase (kBtu)</th>\n",
              "      <th>Weather Normalized Site Electricity (kWh)</th>\n",
              "      <th>Total GHG Emissions (Metric Tons CO2e)</th>\n",
              "      <th>Direct GHG Emissions (Metric Tons CO2e)</th>\n",
              "      <th>Indirect GHG Emissions (Metric Tons CO2e)</th>\n",
              "      <th>Property GFA - Self-Reported (ft²)</th>\n",
              "      <th>Water Use (All Water Sources) (kgal)</th>\n",
              "      <th>Water Intensity (All Water Sources) (gal/ft²)</th>\n",
              "      <th>Source EUI (kBtu/ft²)</th>\n",
              "    </tr>\n",
              "  </thead>\n",
              "  <tbody>\n",
              "    <tr>\n",
              "      <th>0</th>\n",
              "      <td>289356.0</td>\n",
              "      <td>293447.0</td>\n",
              "      <td>1963</td>\n",
              "      <td>2</td>\n",
              "      <td>100</td>\n",
              "      <td>305.6</td>\n",
              "      <td>303.1</td>\n",
              "      <td>37.8</td>\n",
              "      <td>NaN</td>\n",
              "      <td>614.2</td>\n",
              "      <td>38139374.2</td>\n",
              "      <td>11082770.5</td>\n",
              "      <td>6962.2</td>\n",
              "      <td>0.0</td>\n",
              "      <td>6962.2</td>\n",
              "      <td>762051</td>\n",
              "      <td>NaN</td>\n",
              "      <td>NaN</td>\n",
              "      <td>619.4</td>\n",
              "    </tr>\n",
              "    <tr>\n",
              "      <th>1</th>\n",
              "      <td>3693539.0</td>\n",
              "      <td>3889181.0</td>\n",
              "      <td>1969</td>\n",
              "      <td>12</td>\n",
              "      <td>100</td>\n",
              "      <td>229.8</td>\n",
              "      <td>228.8</td>\n",
              "      <td>24.8</td>\n",
              "      <td>2.4</td>\n",
              "      <td>401.1</td>\n",
              "      <td>332365924.0</td>\n",
              "      <td>96261312.1</td>\n",
              "      <td>55870.4</td>\n",
              "      <td>51016.4</td>\n",
              "      <td>4854.1</td>\n",
              "      <td>3889181</td>\n",
              "      <td>NaN</td>\n",
              "      <td>NaN</td>\n",
              "      <td>404.3</td>\n",
              "    </tr>\n",
              "    <tr>\n",
              "      <th>2</th>\n",
              "      <td>152765.0</td>\n",
              "      <td>231342.0</td>\n",
              "      <td>1924</td>\n",
              "      <td>1</td>\n",
              "      <td>100</td>\n",
              "      <td>NaN</td>\n",
              "      <td>NaN</td>\n",
              "      <td>NaN</td>\n",
              "      <td>NaN</td>\n",
              "      <td>NaN</td>\n",
              "      <td>NaN</td>\n",
              "      <td>NaN</td>\n",
              "      <td>0.0</td>\n",
              "      <td>0.0</td>\n",
              "      <td>0.0</td>\n",
              "      <td>231342</td>\n",
              "      <td>NaN</td>\n",
              "      <td>NaN</td>\n",
              "      <td>NaN</td>\n",
              "    </tr>\n",
              "    <tr>\n",
              "      <th>3</th>\n",
              "      <td>891040.0</td>\n",
              "      <td>1305748.0</td>\n",
              "      <td>1971</td>\n",
              "      <td>1</td>\n",
              "      <td>100</td>\n",
              "      <td>NaN</td>\n",
              "      <td>NaN</td>\n",
              "      <td>NaN</td>\n",
              "      <td>NaN</td>\n",
              "      <td>NaN</td>\n",
              "      <td>NaN</td>\n",
              "      <td>NaN</td>\n",
              "      <td>0.0</td>\n",
              "      <td>0.0</td>\n",
              "      <td>0.0</td>\n",
              "      <td>1305748</td>\n",
              "      <td>NaN</td>\n",
              "      <td>NaN</td>\n",
              "      <td>NaN</td>\n",
              "    </tr>\n",
              "    <tr>\n",
              "      <th>4</th>\n",
              "      <td>211400.0</td>\n",
              "      <td>179694.0</td>\n",
              "      <td>1932</td>\n",
              "      <td>1</td>\n",
              "      <td>100</td>\n",
              "      <td>NaN</td>\n",
              "      <td>NaN</td>\n",
              "      <td>NaN</td>\n",
              "      <td>NaN</td>\n",
              "      <td>NaN</td>\n",
              "      <td>NaN</td>\n",
              "      <td>NaN</td>\n",
              "      <td>0.0</td>\n",
              "      <td>0.0</td>\n",
              "      <td>0.0</td>\n",
              "      <td>179694</td>\n",
              "      <td>NaN</td>\n",
              "      <td>NaN</td>\n",
              "      <td>NaN</td>\n",
              "    </tr>\n",
              "  </tbody>\n",
              "</table>\n",
              "</div>\n",
              "    <div class=\"colab-df-buttons\">\n",
              "\n",
              "  <div class=\"colab-df-container\">\n",
              "    <button class=\"colab-df-convert\" onclick=\"convertToInteractive('df-40f1900c-d626-4293-94d5-af55ddc75f35')\"\n",
              "            title=\"Convert this dataframe to an interactive table.\"\n",
              "            style=\"display:none;\">\n",
              "\n",
              "  <svg xmlns=\"http://www.w3.org/2000/svg\" height=\"24px\" viewBox=\"0 -960 960 960\">\n",
              "    <path d=\"M120-120v-720h720v720H120Zm60-500h600v-160H180v160Zm220 220h160v-160H400v160Zm0 220h160v-160H400v160ZM180-400h160v-160H180v160Zm440 0h160v-160H620v160ZM180-180h160v-160H180v160Zm440 0h160v-160H620v160Z\"/>\n",
              "  </svg>\n",
              "    </button>\n",
              "\n",
              "  <style>\n",
              "    .colab-df-container {\n",
              "      display:flex;\n",
              "      gap: 12px;\n",
              "    }\n",
              "\n",
              "    .colab-df-convert {\n",
              "      background-color: #E8F0FE;\n",
              "      border: none;\n",
              "      border-radius: 50%;\n",
              "      cursor: pointer;\n",
              "      display: none;\n",
              "      fill: #1967D2;\n",
              "      height: 32px;\n",
              "      padding: 0 0 0 0;\n",
              "      width: 32px;\n",
              "    }\n",
              "\n",
              "    .colab-df-convert:hover {\n",
              "      background-color: #E2EBFA;\n",
              "      box-shadow: 0px 1px 2px rgba(60, 64, 67, 0.3), 0px 1px 3px 1px rgba(60, 64, 67, 0.15);\n",
              "      fill: #174EA6;\n",
              "    }\n",
              "\n",
              "    .colab-df-buttons div {\n",
              "      margin-bottom: 4px;\n",
              "    }\n",
              "\n",
              "    [theme=dark] .colab-df-convert {\n",
              "      background-color: #3B4455;\n",
              "      fill: #D2E3FC;\n",
              "    }\n",
              "\n",
              "    [theme=dark] .colab-df-convert:hover {\n",
              "      background-color: #434B5C;\n",
              "      box-shadow: 0px 1px 3px 1px rgba(0, 0, 0, 0.15);\n",
              "      filter: drop-shadow(0px 1px 2px rgba(0, 0, 0, 0.3));\n",
              "      fill: #FFFFFF;\n",
              "    }\n",
              "  </style>\n",
              "\n",
              "    <script>\n",
              "      const buttonEl =\n",
              "        document.querySelector('#df-40f1900c-d626-4293-94d5-af55ddc75f35 button.colab-df-convert');\n",
              "      buttonEl.style.display =\n",
              "        google.colab.kernel.accessAllowed ? 'block' : 'none';\n",
              "\n",
              "      async function convertToInteractive(key) {\n",
              "        const element = document.querySelector('#df-40f1900c-d626-4293-94d5-af55ddc75f35');\n",
              "        const dataTable =\n",
              "          await google.colab.kernel.invokeFunction('convertToInteractive',\n",
              "                                                    [key], {});\n",
              "        if (!dataTable) return;\n",
              "\n",
              "        const docLinkHtml = 'Like what you see? Visit the ' +\n",
              "          '<a target=\"_blank\" href=https://colab.research.google.com/notebooks/data_table.ipynb>data table notebook</a>'\n",
              "          + ' to learn more about interactive tables.';\n",
              "        element.innerHTML = '';\n",
              "        dataTable['output_type'] = 'display_data';\n",
              "        await google.colab.output.renderOutput(dataTable, element);\n",
              "        const docLink = document.createElement('div');\n",
              "        docLink.innerHTML = docLinkHtml;\n",
              "        element.appendChild(docLink);\n",
              "      }\n",
              "    </script>\n",
              "  </div>\n",
              "\n",
              "\n",
              "<div id=\"df-96794943-f25e-43ad-9c5b-b6319fe6e7f6\">\n",
              "  <button class=\"colab-df-quickchart\" onclick=\"quickchart('df-96794943-f25e-43ad-9c5b-b6319fe6e7f6')\"\n",
              "            title=\"Suggest charts\"\n",
              "            style=\"display:none;\">\n",
              "\n",
              "<svg xmlns=\"http://www.w3.org/2000/svg\" height=\"24px\"viewBox=\"0 0 24 24\"\n",
              "     width=\"24px\">\n",
              "    <g>\n",
              "        <path d=\"M19 3H5c-1.1 0-2 .9-2 2v14c0 1.1.9 2 2 2h14c1.1 0 2-.9 2-2V5c0-1.1-.9-2-2-2zM9 17H7v-7h2v7zm4 0h-2V7h2v10zm4 0h-2v-4h2v4z\"/>\n",
              "    </g>\n",
              "</svg>\n",
              "  </button>\n",
              "\n",
              "<style>\n",
              "  .colab-df-quickchart {\n",
              "      --bg-color: #E8F0FE;\n",
              "      --fill-color: #1967D2;\n",
              "      --hover-bg-color: #E2EBFA;\n",
              "      --hover-fill-color: #174EA6;\n",
              "      --disabled-fill-color: #AAA;\n",
              "      --disabled-bg-color: #DDD;\n",
              "  }\n",
              "\n",
              "  [theme=dark] .colab-df-quickchart {\n",
              "      --bg-color: #3B4455;\n",
              "      --fill-color: #D2E3FC;\n",
              "      --hover-bg-color: #434B5C;\n",
              "      --hover-fill-color: #FFFFFF;\n",
              "      --disabled-bg-color: #3B4455;\n",
              "      --disabled-fill-color: #666;\n",
              "  }\n",
              "\n",
              "  .colab-df-quickchart {\n",
              "    background-color: var(--bg-color);\n",
              "    border: none;\n",
              "    border-radius: 50%;\n",
              "    cursor: pointer;\n",
              "    display: none;\n",
              "    fill: var(--fill-color);\n",
              "    height: 32px;\n",
              "    padding: 0;\n",
              "    width: 32px;\n",
              "  }\n",
              "\n",
              "  .colab-df-quickchart:hover {\n",
              "    background-color: var(--hover-bg-color);\n",
              "    box-shadow: 0 1px 2px rgba(60, 64, 67, 0.3), 0 1px 3px 1px rgba(60, 64, 67, 0.15);\n",
              "    fill: var(--button-hover-fill-color);\n",
              "  }\n",
              "\n",
              "  .colab-df-quickchart-complete:disabled,\n",
              "  .colab-df-quickchart-complete:disabled:hover {\n",
              "    background-color: var(--disabled-bg-color);\n",
              "    fill: var(--disabled-fill-color);\n",
              "    box-shadow: none;\n",
              "  }\n",
              "\n",
              "  .colab-df-spinner {\n",
              "    border: 2px solid var(--fill-color);\n",
              "    border-color: transparent;\n",
              "    border-bottom-color: var(--fill-color);\n",
              "    animation:\n",
              "      spin 1s steps(1) infinite;\n",
              "  }\n",
              "\n",
              "  @keyframes spin {\n",
              "    0% {\n",
              "      border-color: transparent;\n",
              "      border-bottom-color: var(--fill-color);\n",
              "      border-left-color: var(--fill-color);\n",
              "    }\n",
              "    20% {\n",
              "      border-color: transparent;\n",
              "      border-left-color: var(--fill-color);\n",
              "      border-top-color: var(--fill-color);\n",
              "    }\n",
              "    30% {\n",
              "      border-color: transparent;\n",
              "      border-left-color: var(--fill-color);\n",
              "      border-top-color: var(--fill-color);\n",
              "      border-right-color: var(--fill-color);\n",
              "    }\n",
              "    40% {\n",
              "      border-color: transparent;\n",
              "      border-right-color: var(--fill-color);\n",
              "      border-top-color: var(--fill-color);\n",
              "    }\n",
              "    60% {\n",
              "      border-color: transparent;\n",
              "      border-right-color: var(--fill-color);\n",
              "    }\n",
              "    80% {\n",
              "      border-color: transparent;\n",
              "      border-right-color: var(--fill-color);\n",
              "      border-bottom-color: var(--fill-color);\n",
              "    }\n",
              "    90% {\n",
              "      border-color: transparent;\n",
              "      border-bottom-color: var(--fill-color);\n",
              "    }\n",
              "  }\n",
              "</style>\n",
              "\n",
              "  <script>\n",
              "    async function quickchart(key) {\n",
              "      const quickchartButtonEl =\n",
              "        document.querySelector('#' + key + ' button');\n",
              "      quickchartButtonEl.disabled = true;  // To prevent multiple clicks.\n",
              "      quickchartButtonEl.classList.add('colab-df-spinner');\n",
              "      try {\n",
              "        const charts = await google.colab.kernel.invokeFunction(\n",
              "            'suggestCharts', [key], {});\n",
              "      } catch (error) {\n",
              "        console.error('Error during call to suggestCharts:', error);\n",
              "      }\n",
              "      quickchartButtonEl.classList.remove('colab-df-spinner');\n",
              "      quickchartButtonEl.classList.add('colab-df-quickchart-complete');\n",
              "    }\n",
              "    (() => {\n",
              "      let quickchartButtonEl =\n",
              "        document.querySelector('#df-96794943-f25e-43ad-9c5b-b6319fe6e7f6 button');\n",
              "      quickchartButtonEl.style.display =\n",
              "        google.colab.kernel.accessAllowed ? 'block' : 'none';\n",
              "    })();\n",
              "  </script>\n",
              "</div>\n",
              "\n",
              "    </div>\n",
              "  </div>\n"
            ],
            "application/vnd.google.colaboratory.intrinsic+json": {
              "type": "dataframe",
              "variable_name": "X",
              "summary": "{\n  \"name\": \"X\",\n  \"rows\": 11746,\n  \"fields\": [\n    {\n      \"column\": \"DOF Gross Floor Area\",\n      \"properties\": {\n        \"dtype\": \"number\",\n        \"std\": 336705.45459014736,\n        \"min\": 50028.0,\n        \"max\": 13540113.0,\n        \"num_unique_values\": 9296,\n        \"samples\": [\n          52575.0,\n          73371.0,\n          91416.0\n        ],\n        \"semantic_type\": \"\",\n        \"description\": \"\"\n      }\n    },\n    {\n      \"column\": \"Largest Property Use Type - Gross Floor Area (ft\\u00b2)\",\n      \"properties\": {\n        \"dtype\": \"number\",\n        \"std\": 309574.597547757,\n        \"min\": 54.0,\n        \"max\": 14217119.0,\n        \"num_unique_values\": 9483,\n        \"samples\": [\n          164340.0,\n          62459.0,\n          57456.0\n        ],\n        \"semantic_type\": \"\",\n        \"description\": \"\"\n      }\n    },\n    {\n      \"column\": \"Year Built\",\n      \"properties\": {\n        \"dtype\": \"number\",\n        \"std\": 30,\n        \"min\": 1600,\n        \"max\": 2019,\n        \"num_unique_values\": 157,\n        \"samples\": [\n          1874,\n          2009,\n          1857\n        ],\n        \"semantic_type\": \"\",\n        \"description\": \"\"\n      }\n    },\n    {\n      \"column\": \"Number of Buildings - Self-reported\",\n      \"properties\": {\n        \"dtype\": \"number\",\n        \"std\": 4,\n        \"min\": 0,\n        \"max\": 161,\n        \"num_unique_values\": 49,\n        \"samples\": [\n          14,\n          155,\n          33\n        ],\n        \"semantic_type\": \"\",\n        \"description\": \"\"\n      }\n    },\n    {\n      \"column\": \"Occupancy\",\n      \"properties\": {\n        \"dtype\": \"number\",\n        \"std\": 7,\n        \"min\": 0,\n        \"max\": 100,\n        \"num_unique_values\": 19,\n        \"samples\": [\n          100,\n          80,\n          70\n        ],\n        \"semantic_type\": \"\",\n        \"description\": \"\"\n      }\n    },\n    {\n      \"column\": \"Site EUI (kBtu/ft\\u00b2)\",\n      \"properties\": {\n        \"dtype\": \"number\",\n        \"std\": 8607.178877115228,\n        \"min\": 0.0,\n        \"max\": 869265.0,\n        \"num_unique_values\": 1958,\n        \"samples\": [\n          146.7,\n          36.3,\n          66.8\n        ],\n        \"semantic_type\": \"\",\n        \"description\": \"\"\n      }\n    },\n    {\n      \"column\": \"Weather Normalized Site EUI (kBtu/ft\\u00b2)\",\n      \"properties\": {\n        \"dtype\": \"number\",\n        \"std\": 9784.731206926397,\n        \"min\": 0.0,\n        \"max\": 939329.0,\n        \"num_unique_values\": 1943,\n        \"samples\": [\n          30.1,\n          31.8,\n          145.8\n        ],\n        \"semantic_type\": \"\",\n        \"description\": \"\"\n      }\n    },\n    {\n      \"column\": \"Weather Normalized Site Electricity Intensity (kWh/ft\\u00b2)\",\n      \"properties\": {\n        \"dtype\": \"number\",\n        \"std\": 127.73386823765696,\n        \"min\": 0.0,\n        \"max\": 6259.4,\n        \"num_unique_values\": 440,\n        \"samples\": [\n          26.6,\n          28.5,\n          23.7\n        ],\n        \"semantic_type\": \"\",\n        \"description\": \"\"\n      }\n    },\n    {\n      \"column\": \"Weather Normalized Site Natural Gas Intensity (therms/ft\\u00b2)\",\n      \"properties\": {\n        \"dtype\": \"number\",\n        \"std\": 97.20458700486381,\n        \"min\": 0.0,\n        \"max\": 9393.0,\n        \"num_unique_values\": 65,\n        \"samples\": [\n          676.4,\n          5.5,\n          2.4\n        ],\n        \"semantic_type\": \"\",\n        \"description\": \"\"\n      }\n    },\n    {\n      \"column\": \"Weather Normalized Source EUI (kBtu/ft\\u00b2)\",\n      \"properties\": {\n        \"dtype\": \"number\",\n        \"std\": 10530.524339008236,\n        \"min\": 0.0,\n        \"max\": 986366.0,\n        \"num_unique_values\": 2794,\n        \"samples\": [\n          118.0,\n          7.6,\n          92.1\n        ],\n        \"semantic_type\": \"\",\n        \"description\": \"\"\n      }\n    },\n    {\n      \"column\": \"Electricity Use - Grid Purchase (kBtu)\",\n      \"properties\": {\n        \"dtype\": \"number\",\n        \"std\": 31544295.403594732,\n        \"min\": 0.0,\n        \"max\": 1691763071.0,\n        \"num_unique_values\": 11405,\n        \"samples\": [\n          1982194.2,\n          1015150.1,\n          2183604.9\n        ],\n        \"semantic_type\": \"\",\n        \"description\": \"\"\n      }\n    },\n    {\n      \"column\": \"Weather Normalized Site Electricity (kWh)\",\n      \"properties\": {\n        \"dtype\": \"number\",\n        \"std\": 9389154.023366118,\n        \"min\": 0.0,\n        \"max\": 495827334.5,\n        \"num_unique_values\": 10878,\n        \"samples\": [\n          1827810.0,\n          456745.8,\n          378361.0\n        ],\n        \"semantic_type\": \"\",\n        \"description\": \"\"\n      }\n    },\n    {\n      \"column\": \"Total GHG Emissions (Metric Tons CO2e)\",\n      \"properties\": {\n        \"dtype\": \"number\",\n        \"std\": 204163.88036553137,\n        \"min\": 0.0,\n        \"max\": 20943400.0,\n        \"num_unique_values\": 7817,\n        \"samples\": [\n          7188.7,\n          337.9,\n          6610.6\n        ],\n        \"semantic_type\": \"\",\n        \"description\": \"\"\n      }\n    },\n    {\n      \"column\": \"Direct GHG Emissions (Metric Tons CO2e)\",\n      \"properties\": {\n        \"dtype\": \"number\",\n        \"std\": 195449.80664301568,\n        \"min\": 0.0,\n        \"max\": 20943400.0,\n        \"num_unique_values\": 5967,\n        \"samples\": [\n          543.2,\n          120.9,\n          298.2\n        ],\n        \"semantic_type\": \"\",\n        \"description\": \"\"\n      }\n    },\n    {\n      \"column\": \"Indirect GHG Emissions (Metric Tons CO2e)\",\n      \"properties\": {\n        \"dtype\": \"number\",\n        \"std\": 59312.94697988252,\n        \"min\": -23134.3,\n        \"max\": 4764375.0,\n        \"num_unique_values\": 5852,\n        \"samples\": [\n          253.3,\n          2959.3,\n          117.7\n        ],\n        \"semantic_type\": \"\",\n        \"description\": \"\"\n      }\n    },\n    {\n      \"column\": \"Property GFA - Self-Reported (ft\\u00b2)\",\n      \"properties\": {\n        \"dtype\": \"number\",\n        \"std\": 318923,\n        \"min\": 0,\n        \"max\": 14217119,\n        \"num_unique_values\": 9466,\n        \"samples\": [\n          279731,\n          66554,\n          76055\n        ],\n        \"semantic_type\": \"\",\n        \"description\": \"\"\n      }\n    },\n    {\n      \"column\": \"Water Use (All Water Sources) (kgal)\",\n      \"properties\": {\n        \"dtype\": \"number\",\n        \"std\": 152952.43250017794,\n        \"min\": 0.0,\n        \"max\": 6594603.9,\n        \"num_unique_values\": 7229,\n        \"samples\": [\n          7351.9,\n          14393.7,\n          4744.1\n        ],\n        \"semantic_type\": \"\",\n        \"description\": \"\"\n      }\n    },\n    {\n      \"column\": \"Water Intensity (All Water Sources) (gal/ft\\u00b2)\",\n      \"properties\": {\n        \"dtype\": \"number\",\n        \"std\": 1730.726937572781,\n        \"min\": 0.0,\n        \"max\": 96305.69,\n        \"num_unique_values\": 5606,\n        \"samples\": [\n          53.96,\n          19.41,\n          53.03\n        ],\n        \"semantic_type\": \"\",\n        \"description\": \"\"\n      }\n    },\n    {\n      \"column\": \"Source EUI (kBtu/ft\\u00b2)\",\n      \"properties\": {\n        \"dtype\": \"number\",\n        \"std\": 9312.736225176306,\n        \"min\": 0.0,\n        \"max\": 912801.1,\n        \"num_unique_values\": 2919,\n        \"samples\": [\n          354.5,\n          494.9,\n          220.4\n        ],\n        \"semantic_type\": \"\",\n        \"description\": \"\"\n      }\n    }\n  ]\n}"
            }
          },
          "metadata": {},
          "execution_count": 9
        }
      ]
    },
    {
      "cell_type": "code",
      "source": [
        "y.head()"
      ],
      "metadata": {
        "colab": {
          "base_uri": "https://localhost:8080/"
        },
        "id": "4N7tUlYJfk09",
        "outputId": "17a5c56b-1cb8-40f7-8ec7-540dfbcc9141"
      },
      "execution_count": 54,
      "outputs": [
        {
          "output_type": "execute_result",
          "data": {
            "text/plain": [
              "0     NaN\n",
              "1    55.0\n",
              "2     NaN\n",
              "3     NaN\n",
              "4     NaN\n",
              "Name: ENERGY STAR Score, dtype: float64"
            ]
          },
          "metadata": {},
          "execution_count": 54
        }
      ]
    },
    {
      "cell_type": "code",
      "source": [
        "unique_energy_star_scores = df['ENERGY STAR Score'].unique()\n",
        "print(unique_energy_star_scores)"
      ],
      "metadata": {
        "colab": {
          "base_uri": "https://localhost:8080/"
        },
        "id": "xZUjv1Tte46W",
        "outputId": "a21bc5c9-d453-47e0-ed86-d169fc8aae2b"
      },
      "execution_count": 8,
      "outputs": [
        {
          "output_type": "stream",
          "name": "stdout",
          "text": [
            "['Not Available' '55' '93' '1' '80' '72' '67' '100' '40' '99' '12' '88'\n",
            " '89' '86' '73' '71' '74' '19' '84' '78' '81' '6' '77' '3' '59' '23' '61'\n",
            " '58' '85' '66' '45' '2' '51' '17' '34' '22' '43' '13' '96' '98' '36' '69'\n",
            " '68' '65' '26' '95' '49' '39' '29' '14' '15' '16' '53' '94' '8' '33' '32'\n",
            " '91' '25' '24' '11' '21' '30' '42' '41' '79' '97' '35' '90' '28' '37'\n",
            " '31' '4' '75' '64' '9' '92' '62' '38' '76' '20' '54' '87' '70' '46' '56'\n",
            " '63' '48' '10' '60' '82' '44' '83' '52' '18' '7' '5' '27' '57' '47' '50']\n"
          ]
        }
      ]
    },
    {
      "cell_type": "code",
      "source": [
        "#missing value in the IF/X\n",
        "missing_values = X.isnull().sum()\n",
        "print(missing_values)"
      ],
      "metadata": {
        "colab": {
          "base_uri": "https://localhost:8080/"
        },
        "id": "eSK83USGfyfK",
        "outputId": "7e385a5e-8a70-4d5b-cf08-5a38e479e139"
      },
      "execution_count": 14,
      "outputs": [
        {
          "output_type": "stream",
          "name": "stdout",
          "text": [
            "DOF Gross Floor Area                                           118\n",
            "Largest Property Use Type - Gross Floor Area (ft²)               2\n",
            "Year Built                                                       0\n",
            "Number of Buildings - Self-reported                              0\n",
            "Occupancy                                                        0\n",
            "Site EUI (kBtu/ft²)                                            163\n",
            "Weather Normalized Site EUI (kBtu/ft²)                        1465\n",
            "Weather Normalized Site Electricity Intensity (kWh/ft²)        787\n",
            "Weather Normalized Site Natural Gas Intensity (therms/ft²)    1963\n",
            "Weather Normalized Source EUI (kBtu/ft²)                      1465\n",
            "Electricity Use - Grid Purchase (kBtu)                         244\n",
            "Weather Normalized Site Electricity (kWh)                      786\n",
            "Total GHG Emissions (Metric Tons CO2e)                          74\n",
            "Direct GHG Emissions (Metric Tons CO2e)                         83\n",
            "Indirect GHG Emissions (Metric Tons CO2e)                       65\n",
            "Property GFA - Self-Reported (ft²)                               0\n",
            "Water Use (All Water Sources) (kgal)                          3984\n",
            "Water Intensity (All Water Sources) (gal/ft²)                 3984\n",
            "Source EUI (kBtu/ft²)                                          163\n",
            "dtype: int64\n"
          ]
        }
      ]
    },
    {
      "cell_type": "code",
      "source": [
        "# Standardizing the features\n",
        "scaler = StandardScaler()\n",
        "X_scaled = scaler.fit_transform(X)"
      ],
      "metadata": {
        "id": "ItSwKsk3KEUc"
      },
      "execution_count": 19,
      "outputs": []
    },
    {
      "cell_type": "code",
      "source": [
        "# Calling imputer function\n",
        "imputer_target = SimpleImputer(strategy='mean')"
      ],
      "metadata": {
        "id": "ZFt1dEFpw1pu"
      },
      "execution_count": 20,
      "outputs": []
    },
    {
      "cell_type": "code",
      "source": [
        "# Impute missing values in the features\n",
        "X_imputed = imputer_target.fit_transform(X.values.reshape(-1, 1)).flatten()"
      ],
      "metadata": {
        "id": "dVqe9WtyxAQf"
      },
      "execution_count": 21,
      "outputs": []
    },
    {
      "cell_type": "code",
      "source": [
        "# Impute missing values in the target variable\n",
        "y_imputed = imputer_target.fit_transform(y.values.reshape(-1, 1)).flatten()"
      ],
      "metadata": {
        "id": "8p_ELs3FxIv1"
      },
      "execution_count": 24,
      "outputs": []
    },
    {
      "cell_type": "code",
      "source": [
        "# Convert the NumPy arrays back to pandas Series\n",
        "X_imputed_series = pd.Series(X_imputed)\n",
        "y_imputed_series = pd.Series(y_imputed)\n"
      ],
      "metadata": {
        "id": "zCUDIVNqxPTx"
      },
      "execution_count": 25,
      "outputs": []
    },
    {
      "cell_type": "code",
      "source": [
        "#Both X_imputed and y_imputed have the same length\n",
        "min_length = min(len(X_imputed), len(y_imputed))\n",
        "X_imputed_series = pd.Series(X_imputed[:min_length])\n",
        "y_imputed_series = pd.Series(y_imputed[:min_length])"
      ],
      "metadata": {
        "id": "LEy8H0mTxXmC"
      },
      "execution_count": 26,
      "outputs": []
    },
    {
      "cell_type": "code",
      "source": [
        "# Check for missing values in X_imputed_series\n",
        "missing_values_X = X_imputed_series.isnull().sum()\n",
        "print(\"Missing values in X_imputed_series:\", missing_values_X)\n",
        "\n",
        "# Check for missing values in y_imputed_series\n",
        "missing_values_y = y_imputed_series.isnull().sum()\n",
        "print(\"Missing values in y_imputed_series:\", missing_values_y)\n"
      ],
      "metadata": {
        "colab": {
          "base_uri": "https://localhost:8080/"
        },
        "id": "qc_VVneDxcy5",
        "outputId": "05c20ae5-020a-431f-a817-d52c17e58192"
      },
      "execution_count": 27,
      "outputs": [
        {
          "output_type": "stream",
          "name": "stdout",
          "text": [
            "Missing values in X_imputed_series: 0\n",
            "Missing values in y_imputed_series: 0\n"
          ]
        }
      ]
    },
    {
      "cell_type": "code",
      "source": [
        "#Train Test Split\n",
        "X_train, X_test, y_train, y_test = train_test_split(X_imputed_series, y_imputed_series, test_size=0.2, random_state=42)\n"
      ],
      "metadata": {
        "id": "a1VxnD4Xmq79"
      },
      "execution_count": 28,
      "outputs": []
    },
    {
      "cell_type": "code",
      "source": [
        "# Reshape X_train to 2D array\n",
        "X_train_reshaped = X_train.values.reshape(-1, 1)\n",
        "X_test_reshaped = X_test.values.reshape(-1, 1)"
      ],
      "metadata": {
        "id": "s29p1a4ko2O0"
      },
      "execution_count": 29,
      "outputs": []
    },
    {
      "cell_type": "code",
      "source": [
        "# Initialize the model\n",
        "rf_model = RandomForestRegressor()\n",
        "\n",
        "# Define hyperparameters to tune\n",
        "param_grid = {\n",
        "    'n_estimators': [50, 100, 200],\n",
        "    'max_depth': [None, 10, 20],\n",
        "    'min_samples_split': [2, 5, 10],\n",
        "    'min_samples_leaf': [1, 2, 4]\n",
        "}"
      ],
      "metadata": {
        "id": "Qc1bfkb_n8Xv"
      },
      "execution_count": 30,
      "outputs": []
    },
    {
      "cell_type": "code",
      "source": [
        "# GridSearchCV for hyperparameter tuning\n",
        "grid_search = GridSearchCV(rf_model, param_grid, cv=5, scoring='neg_mean_squared_error')\n",
        "grid_search.fit(X_train_reshaped, y_train)"
      ],
      "metadata": {
        "colab": {
          "base_uri": "https://localhost:8080/",
          "height": 117
        },
        "id": "Cey0hIx9oEWe",
        "outputId": "26c5faa4-6bed-4815-ca99-db47f284c38e"
      },
      "execution_count": 31,
      "outputs": [
        {
          "output_type": "execute_result",
          "data": {
            "text/plain": [
              "GridSearchCV(cv=5, estimator=RandomForestRegressor(),\n",
              "             param_grid={'max_depth': [None, 10, 20],\n",
              "                         'min_samples_leaf': [1, 2, 4],\n",
              "                         'min_samples_split': [2, 5, 10],\n",
              "                         'n_estimators': [50, 100, 200]},\n",
              "             scoring='neg_mean_squared_error')"
            ],
            "text/html": [
              "<style>#sk-container-id-1 {color: black;background-color: white;}#sk-container-id-1 pre{padding: 0;}#sk-container-id-1 div.sk-toggleable {background-color: white;}#sk-container-id-1 label.sk-toggleable__label {cursor: pointer;display: block;width: 100%;margin-bottom: 0;padding: 0.3em;box-sizing: border-box;text-align: center;}#sk-container-id-1 label.sk-toggleable__label-arrow:before {content: \"▸\";float: left;margin-right: 0.25em;color: #696969;}#sk-container-id-1 label.sk-toggleable__label-arrow:hover:before {color: black;}#sk-container-id-1 div.sk-estimator:hover label.sk-toggleable__label-arrow:before {color: black;}#sk-container-id-1 div.sk-toggleable__content {max-height: 0;max-width: 0;overflow: hidden;text-align: left;background-color: #f0f8ff;}#sk-container-id-1 div.sk-toggleable__content pre {margin: 0.2em;color: black;border-radius: 0.25em;background-color: #f0f8ff;}#sk-container-id-1 input.sk-toggleable__control:checked~div.sk-toggleable__content {max-height: 200px;max-width: 100%;overflow: auto;}#sk-container-id-1 input.sk-toggleable__control:checked~label.sk-toggleable__label-arrow:before {content: \"▾\";}#sk-container-id-1 div.sk-estimator input.sk-toggleable__control:checked~label.sk-toggleable__label {background-color: #d4ebff;}#sk-container-id-1 div.sk-label input.sk-toggleable__control:checked~label.sk-toggleable__label {background-color: #d4ebff;}#sk-container-id-1 input.sk-hidden--visually {border: 0;clip: rect(1px 1px 1px 1px);clip: rect(1px, 1px, 1px, 1px);height: 1px;margin: -1px;overflow: hidden;padding: 0;position: absolute;width: 1px;}#sk-container-id-1 div.sk-estimator {font-family: monospace;background-color: #f0f8ff;border: 1px dotted black;border-radius: 0.25em;box-sizing: border-box;margin-bottom: 0.5em;}#sk-container-id-1 div.sk-estimator:hover {background-color: #d4ebff;}#sk-container-id-1 div.sk-parallel-item::after {content: \"\";width: 100%;border-bottom: 1px solid gray;flex-grow: 1;}#sk-container-id-1 div.sk-label:hover label.sk-toggleable__label {background-color: #d4ebff;}#sk-container-id-1 div.sk-serial::before {content: \"\";position: absolute;border-left: 1px solid gray;box-sizing: border-box;top: 0;bottom: 0;left: 50%;z-index: 0;}#sk-container-id-1 div.sk-serial {display: flex;flex-direction: column;align-items: center;background-color: white;padding-right: 0.2em;padding-left: 0.2em;position: relative;}#sk-container-id-1 div.sk-item {position: relative;z-index: 1;}#sk-container-id-1 div.sk-parallel {display: flex;align-items: stretch;justify-content: center;background-color: white;position: relative;}#sk-container-id-1 div.sk-item::before, #sk-container-id-1 div.sk-parallel-item::before {content: \"\";position: absolute;border-left: 1px solid gray;box-sizing: border-box;top: 0;bottom: 0;left: 50%;z-index: -1;}#sk-container-id-1 div.sk-parallel-item {display: flex;flex-direction: column;z-index: 1;position: relative;background-color: white;}#sk-container-id-1 div.sk-parallel-item:first-child::after {align-self: flex-end;width: 50%;}#sk-container-id-1 div.sk-parallel-item:last-child::after {align-self: flex-start;width: 50%;}#sk-container-id-1 div.sk-parallel-item:only-child::after {width: 0;}#sk-container-id-1 div.sk-dashed-wrapped {border: 1px dashed gray;margin: 0 0.4em 0.5em 0.4em;box-sizing: border-box;padding-bottom: 0.4em;background-color: white;}#sk-container-id-1 div.sk-label label {font-family: monospace;font-weight: bold;display: inline-block;line-height: 1.2em;}#sk-container-id-1 div.sk-label-container {text-align: center;}#sk-container-id-1 div.sk-container {/* jupyter's `normalize.less` sets `[hidden] { display: none; }` but bootstrap.min.css set `[hidden] { display: none !important; }` so we also need the `!important` here to be able to override the default hidden behavior on the sphinx rendered scikit-learn.org. See: https://github.com/scikit-learn/scikit-learn/issues/21755 */display: inline-block !important;position: relative;}#sk-container-id-1 div.sk-text-repr-fallback {display: none;}</style><div id=\"sk-container-id-1\" class=\"sk-top-container\"><div class=\"sk-text-repr-fallback\"><pre>GridSearchCV(cv=5, estimator=RandomForestRegressor(),\n",
              "             param_grid={&#x27;max_depth&#x27;: [None, 10, 20],\n",
              "                         &#x27;min_samples_leaf&#x27;: [1, 2, 4],\n",
              "                         &#x27;min_samples_split&#x27;: [2, 5, 10],\n",
              "                         &#x27;n_estimators&#x27;: [50, 100, 200]},\n",
              "             scoring=&#x27;neg_mean_squared_error&#x27;)</pre><b>In a Jupyter environment, please rerun this cell to show the HTML representation or trust the notebook. <br />On GitHub, the HTML representation is unable to render, please try loading this page with nbviewer.org.</b></div><div class=\"sk-container\" hidden><div class=\"sk-item sk-dashed-wrapped\"><div class=\"sk-label-container\"><div class=\"sk-label sk-toggleable\"><input class=\"sk-toggleable__control sk-hidden--visually\" id=\"sk-estimator-id-1\" type=\"checkbox\" ><label for=\"sk-estimator-id-1\" class=\"sk-toggleable__label sk-toggleable__label-arrow\">GridSearchCV</label><div class=\"sk-toggleable__content\"><pre>GridSearchCV(cv=5, estimator=RandomForestRegressor(),\n",
              "             param_grid={&#x27;max_depth&#x27;: [None, 10, 20],\n",
              "                         &#x27;min_samples_leaf&#x27;: [1, 2, 4],\n",
              "                         &#x27;min_samples_split&#x27;: [2, 5, 10],\n",
              "                         &#x27;n_estimators&#x27;: [50, 100, 200]},\n",
              "             scoring=&#x27;neg_mean_squared_error&#x27;)</pre></div></div></div><div class=\"sk-parallel\"><div class=\"sk-parallel-item\"><div class=\"sk-item\"><div class=\"sk-label-container\"><div class=\"sk-label sk-toggleable\"><input class=\"sk-toggleable__control sk-hidden--visually\" id=\"sk-estimator-id-2\" type=\"checkbox\" ><label for=\"sk-estimator-id-2\" class=\"sk-toggleable__label sk-toggleable__label-arrow\">estimator: RandomForestRegressor</label><div class=\"sk-toggleable__content\"><pre>RandomForestRegressor()</pre></div></div></div><div class=\"sk-serial\"><div class=\"sk-item\"><div class=\"sk-estimator sk-toggleable\"><input class=\"sk-toggleable__control sk-hidden--visually\" id=\"sk-estimator-id-3\" type=\"checkbox\" ><label for=\"sk-estimator-id-3\" class=\"sk-toggleable__label sk-toggleable__label-arrow\">RandomForestRegressor</label><div class=\"sk-toggleable__content\"><pre>RandomForestRegressor()</pre></div></div></div></div></div></div></div></div></div></div>"
            ]
          },
          "metadata": {},
          "execution_count": 31
        }
      ]
    },
    {
      "cell_type": "code",
      "source": [
        "# Get the best model from the search\n",
        "best_rf_model = grid_search.best_estimator_\n"
      ],
      "metadata": {
        "id": "05W0ZJjBrKip"
      },
      "execution_count": 33,
      "outputs": []
    },
    {
      "cell_type": "code",
      "source": [
        "# Make predictions on the test set\n",
        "y_pred = best_rf_model.predict(X_test_reshaped)\n"
      ],
      "metadata": {
        "id": "oigjnfadrRED"
      },
      "execution_count": 34,
      "outputs": []
    },
    {
      "cell_type": "code",
      "source": [
        "# Calculate the mean squared error\n",
        "mse = mean_squared_error(y_test, y_pred)\n",
        "print(f\"Mean Squared Error: {mse:.4f}\")"
      ],
      "metadata": {
        "colab": {
          "base_uri": "https://localhost:8080/"
        },
        "id": "n8sy9pnyr0eZ",
        "outputId": "a5f4063c-4e04-44b1-e330-29fabd278caf"
      },
      "execution_count": 35,
      "outputs": [
        {
          "output_type": "stream",
          "name": "stdout",
          "text": [
            "Mean Squared Error: 762.3091\n"
          ]
        }
      ]
    },
    {
      "cell_type": "code",
      "source": [
        "# K-Means Clustering"
      ],
      "metadata": {
        "id": "spralpPp79hc"
      },
      "execution_count": 92,
      "outputs": []
    },
    {
      "cell_type": "code",
      "source": [
        "import pandas as pd\n",
        "import numpy as np\n",
        "from sklearn.cluster import KMeans\n",
        "from sklearn.metrics import silhouette_score\n",
        "from sklearn.preprocessing import StandardScaler\n",
        "import matplotlib.pyplot as plt\n"
      ],
      "metadata": {
        "id": "p7CiKA-qFUIX"
      },
      "execution_count": 6,
      "outputs": []
    },
    {
      "cell_type": "code",
      "source": [
        "from google.colab import files\n",
        "\n",
        "\n",
        "uploaded = files.upload()\n"
      ],
      "metadata": {
        "id": "BpL95J19IsBj"
      },
      "execution_count": null,
      "outputs": []
    },
    {
      "cell_type": "code",
      "source": [
        "# Load the dataset (replace 'your_dataset.csv')\n",
        "df = pd.read_csv('Energy_and_Water_Data_Disclosure_for_Local_Law_84_2017__Data_for_Calendar_Year_2016_.csv')\n",
        "\n"
      ],
      "metadata": {
        "id": "NPZjWqErFZyD"
      },
      "execution_count": 10,
      "outputs": []
    },
    {
      "cell_type": "code",
      "source": [
        "# Assuming 'df' is your DataFrame and features contains the column names\n",
        "features = ['ENERGY STAR Score', 'Site EUI (kBtu/ft²)', 'Total GHG Emissions (Metric Tons CO2e)']\n",
        "X = df[features]\n"
      ],
      "metadata": {
        "id": "yoaz0G36FfsX"
      },
      "execution_count": 11,
      "outputs": []
    },
    {
      "cell_type": "code",
      "source": [
        "# Convert 'Not Available' to NaN so it can be handled by fillna\n",
        "X = X.replace('Not Available', np.nan)\n",
        "\n",
        "# Convert all columns to numeric, coercing errors will turn unconvertible values to NaN\n",
        "X = X.apply(pd.to_numeric, errors='coerce')\n",
        "\n",
        "# Fill NaN values with the median of each column, specifying numeric_only=True to address the warning\n",
        "X = X.fillna(X.mean(numeric_only=True))"
      ],
      "metadata": {
        "id": "wW0odNl6Fk88"
      },
      "execution_count": 13,
      "outputs": []
    },
    {
      "cell_type": "code",
      "source": [
        "# Standardizing the features\n",
        "scaler = StandardScaler()\n",
        "X_scaled = scaler.fit_transform(X)\n"
      ],
      "metadata": {
        "id": "AYqAqkNLFvMg"
      },
      "execution_count": 14,
      "outputs": []
    },
    {
      "cell_type": "code",
      "source": [
        "# Calculating WCSS for different numbers of clusters\n",
        "wcss = []\n",
        "for i in range(1, 11):  # Checking for 1 to 10 clusters\n",
        "    kmeans = KMeans(n_clusters=i, init='k-means++', max_iter=300, n_init=10, random_state=42)\n",
        "    kmeans.fit(X_scaled)\n",
        "    wcss.append(kmeans.inertia_)"
      ],
      "metadata": {
        "id": "EhSBzSnFF5LX"
      },
      "execution_count": 15,
      "outputs": []
    },
    {
      "cell_type": "code",
      "source": [
        "# Plotting the results onto a line graph to observe the 'Elbow'\n",
        "plt.figure(figsize=(10, 5))\n",
        "plt.plot(range(1, 11), wcss, marker='o', linestyle='--')\n",
        "plt.title('Elbow Method')\n",
        "plt.xlabel('Number of clusters')\n",
        "plt.ylabel('WCSS')  # Within cluster sum of squares\n",
        "plt.xticks(range(1, 11))\n",
        "plt.grid(True)\n",
        "plt.show()\n",
        "\n",
        "\n"
      ],
      "metadata": {
        "colab": {
          "base_uri": "https://localhost:8080/",
          "height": 496
        },
        "id": "s4-hHujvF9dt",
        "outputId": "c9b68984-38d7-4cf4-f8f5-d993dcebb447"
      },
      "execution_count": 16,
      "outputs": [
        {
          "output_type": "display_data",
          "data": {
            "text/plain": [
              "<Figure size 1000x500 with 1 Axes>"
            ],
            "image/png": "[encoded data removed]"
          },
          "metadata": {}
        }
      ]
    },
    {
      "cell_type": "code",
      "source": [
        "# optimal number of clusters based on the Elbow Method\n",
        "optimal_k = 4\n",
        "\n",
        "# Fit K-means model with the optimal number of clusters\n",
        "kmeans_optimal = KMeans(n_clusters=optimal_k, init='k-means++', max_iter=300, n_init=10, random_state=42)\n",
        "kmeans_optimal.fit(X_scaled)\n",
        "\n",
        "# Predict cluster labels for your data\n",
        "cluster_labels = kmeans_optimal.predict(X_scaled)\n"
      ],
      "metadata": {
        "id": "Josla9p3GER1"
      },
      "execution_count": 17,
      "outputs": []
    },
    {
      "cell_type": "code",
      "source": [
        "# Assuming X_scaled is your scaled dataset and kmeans is your model\n",
        "labels = kmeans.labels_\n",
        "silhouette_avg = silhouette_score(X_scaled, cluster_labels)\n",
        "print(f\"Silhouette Score: {silhouette_avg}\")"
      ],
      "metadata": {
        "colab": {
          "base_uri": "https://localhost:8080/"
        },
        "id": "KlwnMaRZHDpz",
        "outputId": "0cf450f8-c00e-485e-a257-0aef60e64a27"
      },
      "execution_count": 18,
      "outputs": [
        {
          "output_type": "stream",
          "name": "stdout",
          "text": [
            "Silhouette Score: 0.6392034057539252\n"
          ]
        }
      ]
    },
    {
      "cell_type": "code",
      "source": [],
      "metadata": {
        "id": "5PdqdSvQHS2v"
      },
      "execution_count": null,
      "outputs": []
    }
  ]
}