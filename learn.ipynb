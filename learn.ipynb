{
  "nbformat": 4,
  "nbformat_minor": 0,
  "metadata": {
    "colab": {
      "provenance": [],
      "authorship_tag": "ABX9TyOYIaWzTyF1SeTXRHAgDgad",
      "include_colab_link": true
    },
    "kernelspec": {
      "name": "python3",
      "display_name": "Python 3"
    },
    "language_info": {
      "name": "python"
    }
  },
  "cells": [
    {
      "cell_type": "markdown",
      "metadata": {
        "id": "view-in-github",
        "colab_type": "text"
      },
      "source": [
        "<a href=\"https://colab.research.google.com/github/shibajiray/programming-foundations-data-structures-4410875/blob/main/learn.ipynb\" target=\"_parent\"><img src=\"https://colab.research.google.com/assets/colab-badge.svg\" alt=\"Open In Colab\"/></a>"
      ]
    },
    {
      "cell_type": "code",
      "source": [
        "def find_index_sum(n, tsum):\n",
        "    index = []\n",
        "    for i in range(len(n)):\n",
        "        for j in range(i + 1, len(n)):\n",
        "            if n[i] + n[j] == tsum:\n",
        "                index.append((i, j))\n",
        "    return index\n",
        "\n",
        "x = [2, 7, 11, 15]\n",
        "r = 9\n",
        "\n",
        "result_index = find_index_sum(x, r)\n",
        "\n",
        "print(\"Index of pairs of numbers whose sum is equal to\", r, \"in the list x are:\", result_index)\n",
        "print(f\" Theindex pair whose sum is {r} is\", result_index)"
      ],
      "metadata": {
        "colab": {
          "base_uri": "https://localhost:8080/"
        },
        "id": "IKx6LtRTnLvd",
        "outputId": "0efd3c20-075d-476b-97c5-aba3e412793c"
      },
      "execution_count": null,
      "outputs": [
        {
          "output_type": "stream",
          "name": "stdout",
          "text": [
            "Index of pairs of numbers whose sum is equal to 9 in the list x are: [(0, 1)]\n",
            " Theindex pair whose sum is 9 is [(0, 1)]\n"
          ]
        }
      ]
    },
    {
      "cell_type": "code",
      "source": [
        "class NumberFinder:\n",
        "    def __init__(self, numbers):\n",
        "        self.numbers = numbers\n",
        "\n",
        "    def find_indices_of_sum(self, target_sum):\n",
        "        indices = []\n",
        "        for i in range(len(self.numbers)):\n",
        "            for j in range(i + 1, len(self.numbers)):\n",
        "                if self.numbers[i] + self.numbers[j] == target_sum:\n",
        "                    indices.append((i, j))\n",
        "        return indices\n",
        "\n",
        "x = [2, 7, 11, 15]\n",
        "r = 9\n",
        "\n",
        "finder = NumberFinder(x)\n",
        "result_indices = finder.find_indices_of_sum(r)\n",
        "\n",
        "print(\"Indices of pairs of numbers whose sum is equal to\", r, \"in the list x are:\", result_indices)\n"
      ],
      "metadata": {
        "colab": {
          "base_uri": "https://localhost:8080/"
        },
        "id": "Gknfet_f2oQA",
        "outputId": "8a5ebf59-360b-4c02-a4c1-1be56aa6a0ef"
      },
      "execution_count": null,
      "outputs": [
        {
          "output_type": "stream",
          "name": "stdout",
          "text": [
            "Indices of pairs of numbers whose sum is equal to 9 in the list x are: [(0, 1)]\n"
          ]
        }
      ]
    },
    {
      "cell_type": "code",
      "source": [
        "a52 = ['asif', 25, (50, 100), [90, 100], {'john', 'david'}]\n",
        "\n",
        "\n",
        "name = None\n",
        "\n",
        "for item in a52:\n",
        "    if isinstance(item, set):\n",
        "        if 'david' in item:\n",
        "            name = item\n",
        "\n",
        "\n",
        "if name is not None:\n",
        "    d_name = 'david'\n",
        "    print(f\"Found '{d_name}' in the set: {name}\")\n",
        "else:\n",
        "    print(\"Couldn't find 'david' in the list.\")"
      ],
      "metadata": {
        "id": "M08QLSyKucv6",
        "outputId": "dc7cb78e-0f8f-4880-8798-2b642210a585",
        "colab": {
          "base_uri": "https://localhost:8080/"
        }
      },
      "execution_count": 1,
      "outputs": [
        {
          "output_type": "stream",
          "name": "stdout",
          "text": [
            "Found 'david' in the set: {'david', 'john'}\n"
          ]
        }
      ]
    },
    {
      "cell_type": "code",
      "source": [
        "a52 = ['asif', 25, (50, 100), [90, 100], {'john', 'david'}]\n",
        "\n",
        "\n",
        "if 'david' in a52[-1]:\n",
        "    name = 'david'\n",
        "    print(f\"Found '{name}' in the list.\")\n",
        "else:\n",
        "    print(\"Couldn't find 'david' in the list.\")\n"
      ],
      "metadata": {
        "id": "oWaH88gAuwyE",
        "outputId": "ea65edca-8328-43e5-aba4-60e1aa982edd",
        "colab": {
          "base_uri": "https://localhost:8080/"
        }
      },
      "execution_count": 2,
      "outputs": [
        {
          "output_type": "stream",
          "name": "stdout",
          "text": [
            "Found 'david' in the list.\n"
          ]
        }
      ]
    }
  ]
}