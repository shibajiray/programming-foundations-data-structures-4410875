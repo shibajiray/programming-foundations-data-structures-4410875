{
  "nbformat": 4,
  "nbformat_minor": 0,
  "metadata": {
    "colab": {
      "provenance": [],
      "authorship_tag": "ABX9TyMdzpmWBsr+RI6zK8oNgHvW",
      "include_colab_link": true
    },
    "kernelspec": {
      "name": "python3",
      "display_name": "Python 3"
    },
    "language_info": {
      "name": "python"
    }
  },
  "cells": [
    {
      "cell_type": "markdown",
      "metadata": {
        "id": "view-in-github",
        "colab_type": "text"
      },
      "source": [
        "<a href=\"https://colab.research.google.com/github/shibajiray/programming-foundations-data-structures-4410875/blob/main/learn.ipynb\" target=\"_parent\"><img src=\"https://colab.research.google.com/assets/colab-badge.svg\" alt=\"Open In Colab\"/></a>"
      ]
    },
    {
      "cell_type": "code",
      "execution_count": 3,
      "metadata": {
        "colab": {
          "base_uri": "https://localhost:8080/"
        },
        "id": "WX7o4u4VnBQ7",
        "outputId": "9b62745b-880e-4bc6-e8d0-5a5ba95200fa"
      },
      "outputs": [
        {
          "output_type": "stream",
          "name": "stdout",
          "text": [
            "Indices of numbers equal to 9 in the list x are: []\n"
          ]
        }
      ],
      "source": [
        "def find_indices(numbers, target):\n",
        "    indices = [i for i, number in enumerate(numbers) if number == target]\n",
        "    return indices\n",
        "\n",
        "x = [2, 7, 11, 15]\n",
        "r = 9\n",
        "\n",
        "result_indices = find_indices(x, r)\n",
        "\n",
        "print(\"Indices of numbers equal to\", r, \"in the list x are:\", result_indices)\n"
      ]
    },
    {
      "cell_type": "code",
      "source": [
        "def find_index_sum(n, tsum):\n",
        "    index = []\n",
        "    for i in range(len(n)):\n",
        "        for j in range(i + 1, len(n)):\n",
        "            if n[i] + n[j] == tsum:\n",
        "                index.append((i, j))\n",
        "    return index\n",
        "\n",
        "x = [2, 7, 11, 15]\n",
        "r = 9\n",
        "\n",
        "result_index = find_index_sum(x, r)\n",
        "\n",
        "print(\"Index of pairs of numbers whose sum is equal to\", r, \"in the list x are:\", result_index)\n"
      ],
      "metadata": {
        "colab": {
          "base_uri": "https://localhost:8080/"
        },
        "id": "IKx6LtRTnLvd",
        "outputId": "e6fd1458-0bef-43cb-d667-e4b7e055ccfe"
      },
      "execution_count": 8,
      "outputs": [
        {
          "output_type": "stream",
          "name": "stdout",
          "text": [
            "Index of pairs of numbers whose sum is equal to 9 in the list x are: [(0, 1)]\n"
          ]
        }
      ]
    }
  ]
}